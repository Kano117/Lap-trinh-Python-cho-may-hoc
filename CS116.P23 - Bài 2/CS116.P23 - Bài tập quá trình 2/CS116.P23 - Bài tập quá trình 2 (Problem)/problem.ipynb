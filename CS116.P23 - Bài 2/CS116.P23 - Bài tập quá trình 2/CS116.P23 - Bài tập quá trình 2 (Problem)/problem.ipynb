{
 "cells": [
  {
   "cell_type": "markdown",
   "id": "a57f34fe-1672-49cb-90a7-16cc5ed59326",
   "metadata": {},
   "source": [
    "\n",
    "# TIỀN XỬ LÝ DỮ LIỆU (PHẦN 1)"
   ]
  },
  {
   "cell_type": "markdown",
   "id": "68056122-ab12-44db-9155-73c34ab4b855",
   "metadata": {},
   "source": [
    "Trong lĩnh vực machine learning, việc tiền xử lý dữ liệu đóng vai trò quan trọng để xây dựng những mô hình chính xác và mạnh mẽ. Dữ liệu thô thường gặp phải tình trạng lộn xộn, thiếu sót và không nhất quán. Tiền xử lý dữ liệu bao gồm một loạt các kỹ thuật và nhiệm vụ nhằm biến đổi và tinh chỉnh dữ liệu thô thành một định dạng thích hợp, chuẩn bị cho việc phân tích và huấn luyện mô hình.\n",
    "\n",
    "Bằng cách giải quyết các vấn đề như giá trị thiếu, các ngoại lệ và tỷ lệ biến đổi khác nhau, việc tiền xử lý đảm bảo chất lượng dữ liệu được cải thiện, dẫn đến hiệu suất mô hình cải thiện.\n",
    "\n",
    "Trong cuốn sổ tay Jupyter này, chúng ta sẽ đào sâu vào các bước cơ bản của tiền xử lý dữ liệu. Chúng ta sẽ làm việc thông qua một bài tập thực tế bằng Python, nơi chúng ta sẽ tập trung vào 2 nhiệm vụ cơ bản:\n",
    "\n",
    "* Xác định và xử lý giá trị bị thiếu\n",
    "* Chuẩn hóa dữ liệu\n",
    "\n",
    "Khi kết thúc bài tập này, bạn sẽ đã có được kinh nghiệm thực tế trong việc đánh giá, làm sạch và biến đổi dữ liệu thô thành một định dạng thích hợp cho việc học máy. Những kỹ năng này là nền tảng trong hành trình khoa học dữ liệu, vì chúng đặt ra sân khấu cho các kỹ thuật nâng cao hơn và việc xây dựng mô hình. Vậy thì, hãy bắt đầu và học nghệ thuật tiền xử lý dữ liệu để mở khóa tiềm năng thực sự của những nỗ lực trong lĩnh vực học máy của bạn."
   ]
  },
  {
   "cell_type": "markdown",
   "id": "9cb22ae8-dbbc-4675-820d-601d0fb7036f",
   "metadata": {},
   "source": [
    "### 1. Tải dữ liệu"
   ]
  },
  {
   "cell_type": "markdown",
   "id": "7d2409eb-06fb-4b25-9809-17d404a6065e",
   "metadata": {},
   "source": [
    "Dữ liệu được sử dụng sẽ là dữ liệu về giá nhà, cụ thể như sau:"
   ]
  },
  {
   "cell_type": "code",
   "execution_count": 1,
   "id": "21e185c1-96d0-4186-a3b8-972a66177a44",
   "metadata": {},
   "outputs": [
    {
     "data": {
      "text/html": [
       "<div>\n",
       "<style scoped>\n",
       "    .dataframe tbody tr th:only-of-type {\n",
       "        vertical-align: middle;\n",
       "    }\n",
       "\n",
       "    .dataframe tbody tr th {\n",
       "        vertical-align: top;\n",
       "    }\n",
       "\n",
       "    .dataframe thead th {\n",
       "        text-align: right;\n",
       "    }\n",
       "</style>\n",
       "<table border=\"1\" class=\"dataframe\">\n",
       "  <thead>\n",
       "    <tr style=\"text-align: right;\">\n",
       "      <th></th>\n",
       "      <th>longitude</th>\n",
       "      <th>latitude</th>\n",
       "      <th>housing_median_age</th>\n",
       "      <th>total_rooms</th>\n",
       "      <th>total_bedrooms</th>\n",
       "      <th>population</th>\n",
       "      <th>households</th>\n",
       "      <th>median_income</th>\n",
       "      <th>median_house_value</th>\n",
       "    </tr>\n",
       "  </thead>\n",
       "  <tbody>\n",
       "    <tr>\n",
       "      <th>0</th>\n",
       "      <td>-122.23</td>\n",
       "      <td>37.88</td>\n",
       "      <td>41.0</td>\n",
       "      <td>NaN</td>\n",
       "      <td>129.0</td>\n",
       "      <td>NaN</td>\n",
       "      <td>NaN</td>\n",
       "      <td>8.3252</td>\n",
       "      <td>452600.0</td>\n",
       "    </tr>\n",
       "    <tr>\n",
       "      <th>1</th>\n",
       "      <td>NaN</td>\n",
       "      <td>37.86</td>\n",
       "      <td>21.0</td>\n",
       "      <td>7099.0</td>\n",
       "      <td>1106.0</td>\n",
       "      <td>NaN</td>\n",
       "      <td>NaN</td>\n",
       "      <td>8.3014</td>\n",
       "      <td>358500.0</td>\n",
       "    </tr>\n",
       "    <tr>\n",
       "      <th>2</th>\n",
       "      <td>-122.24</td>\n",
       "      <td>37.85</td>\n",
       "      <td>NaN</td>\n",
       "      <td>NaN</td>\n",
       "      <td>190.0</td>\n",
       "      <td>NaN</td>\n",
       "      <td>NaN</td>\n",
       "      <td>7.2574</td>\n",
       "      <td>352100.0</td>\n",
       "    </tr>\n",
       "    <tr>\n",
       "      <th>3</th>\n",
       "      <td>-122.25</td>\n",
       "      <td>37.85</td>\n",
       "      <td>NaN</td>\n",
       "      <td>NaN</td>\n",
       "      <td>235.0</td>\n",
       "      <td>NaN</td>\n",
       "      <td>NaN</td>\n",
       "      <td>5.6431</td>\n",
       "      <td>341300.0</td>\n",
       "    </tr>\n",
       "    <tr>\n",
       "      <th>4</th>\n",
       "      <td>-122.25</td>\n",
       "      <td>NaN</td>\n",
       "      <td>52.0</td>\n",
       "      <td>NaN</td>\n",
       "      <td>280.0</td>\n",
       "      <td>565.0</td>\n",
       "      <td>259.0</td>\n",
       "      <td>3.8462</td>\n",
       "      <td>342200.0</td>\n",
       "    </tr>\n",
       "  </tbody>\n",
       "</table>\n",
       "</div>"
      ],
      "text/plain": [
       "   longitude  latitude  housing_median_age  total_rooms  total_bedrooms  \\\n",
       "0    -122.23     37.88                41.0          NaN           129.0   \n",
       "1        NaN     37.86                21.0       7099.0          1106.0   \n",
       "2    -122.24     37.85                 NaN          NaN           190.0   \n",
       "3    -122.25     37.85                 NaN          NaN           235.0   \n",
       "4    -122.25       NaN                52.0          NaN           280.0   \n",
       "\n",
       "   population  households  median_income  median_house_value  \n",
       "0         NaN         NaN         8.3252            452600.0  \n",
       "1         NaN         NaN         8.3014            358500.0  \n",
       "2         NaN         NaN         7.2574            352100.0  \n",
       "3         NaN         NaN         5.6431            341300.0  \n",
       "4       565.0       259.0         3.8462            342200.0  "
      ]
     },
     "execution_count": 1,
     "metadata": {},
     "output_type": "execute_result"
    }
   ],
   "source": [
    "import pandas as pd\n",
    "\n",
    "data_path = \"./data/housing.csv\"\n",
    "df = pd.read_csv(data_path, index_col=0)\n",
    "df_test = df.copy()\n",
    "df.head()"
   ]
  },
  {
   "cell_type": "markdown",
   "id": "9608f321-892f-4b30-abc5-3f32acc8ca32",
   "metadata": {},
   "source": [
    "### 2. Xác định số phần tử bị thiếu ở mỗi cột"
   ]
  },
  {
   "cell_type": "code",
   "execution_count": 2,
   "id": "33895a86-e06d-4b87-b7f4-52b117a68c37",
   "metadata": {},
   "outputs": [
    {
     "data": {
      "text/plain": [
       "longitude              6826\n",
       "latitude               5020\n",
       "housing_median_age     7711\n",
       "total_rooms           13089\n",
       "total_bedrooms          432\n",
       "population            13206\n",
       "households            15149\n",
       "median_income          2145\n",
       "median_house_value     5227\n",
       "dtype: int64"
      ]
     },
     "execution_count": 2,
     "metadata": {},
     "output_type": "execute_result"
    }
   ],
   "source": [
    "# Liệt kê số phần tử bị thiếu ở mỗi cột\n",
    "df.isna().sum()"
   ]
  },
  {
   "cell_type": "markdown",
   "id": "48a2373b-bc37-4cef-9bdc-b55349d1065c",
   "metadata": {},
   "source": [
    "### 3. Loại bỏ những cột có nhiều giá trị bị thiếu"
   ]
  },
  {
   "cell_type": "markdown",
   "id": "78064733-9bd7-4b3f-af33-31972ee02b0f",
   "metadata": {},
   "source": [
    "**Bài tập**: Hãy viết hàm nhận vào `dataframe` và `threshold` (ngưỡng phần trăm).\n",
    "Trả về `dataframe` mới sau khi đã loại bỏ hết tất cả các cột mà tỉ lệ phần\n",
    "trăm giá trị bị thiếu vượt qua `threshold`."
   ]
  },
  {
   "cell_type": "code",
   "execution_count": 3,
   "id": "27f0ec52-2b01-47a2-82d2-edf394728815",
   "metadata": {},
   "outputs": [],
   "source": [
    "def drop_sparse_columns(df: pd.DataFrame, threshold: float) -> pd.DataFrame:\n",
    "\n",
    "\n",
    "    ### BEGIN SOLUTION\n",
    "\n",
    "    ### END SOLUTION\n",
    "    pass"
   ]
  },
  {
   "cell_type": "markdown",
   "id": "48672ad9-9bdb-4eee-80da-1145481fce84",
   "metadata": {},
   "source": [
    "Ta tiến hành loại bỏ những cột có nhiều giá trị bị thiếu"
   ]
  },
  {
   "cell_type": "code",
   "execution_count": 4,
   "id": "2ce1d8b4-40e1-47fb-9750-258ff45e4f2f",
   "metadata": {},
   "outputs": [],
   "source": [
    "# Nếu cột có phần trăm giá trị bị thiếu > 60% thì sẽ bị loại bỏ\n",
    "threshold = 0.6\n",
    "df = drop_sparse_columns(df, threshold)"
   ]
  },
  {
   "cell_type": "code",
   "execution_count": 5,
   "id": "e10deef8-17fd-4147-8a95-6adb8eeb052e",
   "metadata": {},
   "outputs": [],
   "source": [
    "# Kiểm tra với public tests\n",
    "assert df.shape[1] == 6"
   ]
  },
  {
   "cell_type": "code",
   "execution_count": 7,
   "id": "60fbd658-a765-4346-b6af-29cc6949cc32",
   "metadata": {},
   "outputs": [
    {
     "data": {
      "text/plain": [
       "longitude             6826\n",
       "latitude              5020\n",
       "housing_median_age    7711\n",
       "total_bedrooms         432\n",
       "median_income         2145\n",
       "median_house_value    5227\n",
       "dtype: int64"
      ]
     },
     "execution_count": 7,
     "metadata": {},
     "output_type": "execute_result"
    }
   ],
   "source": [
    "# Sau khi đã loại bỏ những cột không cần thiết do chứa quá nhiều giá trị bị thiếu\n",
    "df.isna().sum()"
   ]
  },
  {
   "cell_type": "markdown",
   "id": "fce998a7-b2d3-4a78-8370-2e511eafa675",
   "metadata": {},
   "source": [
    "### 4. Lắp đầy những giá trị thiếu ở những cột còn lại"
   ]
  },
  {
   "cell_type": "markdown",
   "id": "41f0f148-6f2c-48d2-92d0-b025fb03d283",
   "metadata": {},
   "source": [
    "**Bài tập**: Hãy viết các hàm thực hiện điền giá trị bị thiếu vào `dataframe` ứng với\n",
    "với các chiến lược sau: ***min imputation***, ***max imputation***, ***mean imputation***, ***zero imputation***."
   ]
  },
  {
   "cell_type": "code",
   "execution_count": 8,
   "id": "a7e6f3dd-1bb9-462f-b7af-2ea3639403d7",
   "metadata": {},
   "outputs": [],
   "source": [
    "def scale_test(df: pd.DataFrame, scaler) -> pd.DataFrame:\n",
    "    scaled_data = df.apply(lambda col:\n",
    "                           scaler.fit_transform(col.values.reshape(-1, 1)).flatten())\n",
    "    scaled_df = pd.DataFrame(scaled_data, columns=df.columns)\n",
    "    return scaled_df\n",
    "    pass\n",
    "\n",
    "def fill_with_min(df: pd.DataFrame) -> pd.DataFrame:\n",
    "\n",
    "    ### BEGIN SOLUTION\n",
    "\n",
    "    ### END SOLUTION\n",
    "    pass\n",
    "\n",
    "def fill_with_max(df: pd.DataFrame) -> pd.DataFrame:\n",
    "\n",
    "    ### BEGIN SOLUTION\n",
    "\n",
    "    ### END SOLUTION\n",
    "    pass\n",
    "\n",
    "def fill_with_mean(df: pd.DataFrame) -> pd.DataFrame:\n",
    "\n",
    "    ### BEGIN SOLUTION\n",
    "\n",
    "    ### END SOLUTION\n",
    "    pass\n",
    "\n",
    "def fill_with_zero(df: pd.DataFrame) -> pd.DataFrame:\n",
    "\n",
    "    ### BEGIN SOLUTION\n",
    "\n",
    "    ### END SOLUTION\n",
    "    pass"
   ]
  },
  {
   "cell_type": "markdown",
   "id": "5529ac9a-461a-42d9-af38-d2c8be5dff5d",
   "metadata": {},
   "source": [
    "Ta gọi hàm và tạo những `dataframe` mới ứng với từng kiểu điền rỗng"
   ]
  },
  {
   "cell_type": "code",
   "execution_count": 9,
   "id": "4436390d-d276-4275-8f80-b13a4014d18d",
   "metadata": {},
   "outputs": [],
   "source": [
    "min_filled_df = fill_with_min(df)\n",
    "max_filled_df = fill_with_max(df)\n",
    "mean_filled_df = fill_with_mean(df)\n",
    "zero_filled_df = fill_with_zero(df)"
   ]
  },
  {
   "cell_type": "code",
   "execution_count": 10,
   "id": "ee146da0-9d40-4a3f-a5ef-ed47c6d76098",
   "metadata": {},
   "outputs": [],
   "source": [
    "# Kiểm tra với public tests\n",
    "assert not min_filled_df.isna().any().any()\n",
    "assert not max_filled_df.isna().any().any()\n",
    "assert not mean_filled_df.isna().any().any()\n",
    "assert not zero_filled_df.isna().any().any()"
   ]
  },
  {
   "cell_type": "markdown",
   "id": "99b6bdb6-e80b-49d9-88ed-1c13779a6fc2",
   "metadata": {},
   "source": [
    "## 4. Chuẩn hóa dữ liệu\n",
    "Các đặc trưng thường đi kèm với các tỷ lệ biến đổi khác nhau, điều này có thể dẫn đến mô hình thiên vị. Chúng ta sẽ khám phá các kỹ thuật chuẩn hóa phổ biến\n",
    "\n",
    "- Min-Max Scaling: Nó biến đổi các giá trị trong tập dữ liệu về các giá trị trong khoảng từ 0 đến 1.\n",
    "$$ x_{scaled} = {x-x_{min} \\over x_{max} - x_{min}} $$\n",
    "\n",
    "\n",
    ">>>| x | $x_{scaled}$ |\n",
    "|:--------:|:--------:|\n",
    "| 10       | 0.0      |\n",
    "| -20       | 0.5      |\n",
    "| 35       | 0.25      |\n",
    "| 48       | 1.0      |\n",
    "| 53       | 0.75      |\n",
    "\n",
    "- Standard Scaling (Z-score normalization): Nó tính toán giá trị trung bình và độ lệch chuẩn của tập dữ liệu và chuẩn hóa nó bằng cách trừ giá trị trung bình và chia cho độ lệch chuẩn.\n",
    "\n",
    "$$ x_{scaled} = {x- mean_x \\over std_x} $$\n",
    "\n",
    ">>>| x | $x_{scaled}$ |\n",
    "|:--------:|:--------:|\n",
    "| 10       | -0.56     |\n",
    "| -20       | -1.67      |\n",
    "| 35       | 0.36      |\n",
    "| 48       | 0.84     |\n",
    "| 53       | 1.03      |\n",
    "\n",
    " >>>$mean_x=$25.2, $std_x \\approx$27.0658\n",
    "\n",
    " >>>$mean_{x_{scaled}} \\approx$0, $std_{x_{scaled}} \\approx$1\n",
    "\n",
    "- Robust Scaling: RobustScaler là một kỹ thuật sử dụng trung vị và quartiles để giải quyết các bias từ các giá trị ngoại lệ.\n",
    "\n",
    "$$ x_{scaled} = {x-x_{median} \\over x_{75} - x_{25}} $$\n",
    "\n",
    ">>>| x | $x_{scaled}$ |\n",
    "|:--------:|:--------:|\n",
    "| 10       | -0.66     |\n",
    "| -20       | -1.45      |\n",
    "| 35       | 0.0      |\n",
    "| 48       | 0.34     |\n",
    "| 53       | 0.47      |\n",
    "\n",
    "![anh](https://i.imgur.com/MARX2bg.png)\n",
    "\n",
    " Những kỹ thuật này sẽ giúp đưa các đặc trưng về một tỷ lệ chung, ngăn chặn bất kỳ đặc trưng nào chiếm ưu thế trong quá trình học."
   ]
  },
  {
   "cell_type": "markdown",
   "id": "0bd9929f-610b-426f-8af5-f3be88eca604",
   "metadata": {},
   "source": [
    "**Bài tập**: Hãy viết hàm nhận vào `dataframe` và một `object` thuộc một trong ba\n",
    "scaler đã được import bên dưới và trả vể dataframe đã được chuẩn hóa sử dụng scaler đó."
   ]
  },
  {
   "cell_type": "code",
   "execution_count": 12,
   "id": "311103d7-c1e0-4920-ac89-bbe9730d0110",
   "metadata": {},
   "outputs": [],
   "source": [
    "# Sử dụng các class scaler có từ thư viện sklearn\n",
    "from sklearn.preprocessing import MinMaxScaler, StandardScaler, RobustScaler\n",
    "import numpy as np"
   ]
  },
  {
   "cell_type": "code",
   "execution_count": 13,
   "id": "16a456f6-4953-49b0-9843-6d8d945cf287",
   "metadata": {},
   "outputs": [
    {
     "name": "stdout",
     "output_type": "stream",
     "text": [
      "    Column1\n",
      "0 -0.657895\n",
      "1 -1.447368\n",
      "2  0.000000\n",
      "3  0.342105\n",
      "4  0.473684\n"
     ]
    }
   ],
   "source": [
    "import pandas as pd\n",
    "from sklearn.preprocessing import StandardScaler\n",
    "\n",
    "# Tạo DataFrame với một cột dữ liệu\n",
    "data = {'Column1': [10, -20, 35, 48, 53]}\n",
    "df = pd.DataFrame(data)\n",
    "\n",
    "# Khởi tạo StandardScaler\n",
    "scaler = RobustScaler()\n",
    "\n",
    "# Áp dụng StandardScaler vào cột dữ liệu\n",
    "scaled_data = df.apply(lambda col: scaler.fit_transform(col.values.reshape(-1, 1)).flatten())\n",
    "\n",
    "# In kết quả\n",
    "print(scaled_data)"
   ]
  },
  {
   "cell_type": "code",
   "execution_count": 14,
   "id": "3fd17dbe-893f-4045-82a1-3a1c825936ef",
   "metadata": {},
   "outputs": [],
   "source": [
    "def scale(df: pd.DataFrame, scaler) -> pd.DataFrame:\n",
    "\n",
    "    ### BEGIN SOLUTION\n",
    "\n",
    "\n",
    "\n",
    "\n",
    "    ### END SOLUTION\n",
    "    pass"
   ]
  },
  {
   "cell_type": "markdown",
   "id": "f83caa41-6ee0-453e-92dd-5ba72558c1df",
   "metadata": {},
   "source": [
    "Tiến hành tạo các `dataframe` ứng với từng kiểu chuẩn hóa"
   ]
  },
  {
   "cell_type": "code",
   "execution_count": 15,
   "id": "063dc6b5-4a24-4578-9193-726c308f7583",
   "metadata": {},
   "outputs": [],
   "source": [
    "minmax_scaled_df = scale(mean_filled_df, MinMaxScaler())\n",
    "standard_scaled_df = scale(mean_filled_df, StandardScaler())\n",
    "robust_scaled_df = scale(mean_filled_df, RobustScaler())"
   ]
  }
 ],
 "metadata": {
  "colab": {
   "provenance": []
  },
  "kernelspec": {
   "display_name": "Python 3",
   "language": "python",
   "name": "python3"
  },
  "language_info": {
   "codemirror_mode": {
    "name": "ipython",
    "version": 3
   },
   "file_extension": ".py",
   "mimetype": "text/x-python",
   "name": "python",
   "nbconvert_exporter": "python",
   "pygments_lexer": "ipython3",
   "version": "3.11.9"
  }
 },
 "nbformat": 4,
 "nbformat_minor": 5
}
